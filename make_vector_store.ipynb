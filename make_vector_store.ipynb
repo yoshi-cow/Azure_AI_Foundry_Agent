{
 "cells": [
  {
   "cell_type": "markdown",
   "id": "fb293504-4f23-4170-bf11-894af8c85b77",
   "metadata": {},
   "source": [
    "# ベクトルストア作成用 notebook\n",
    "\n",
    "- 指定したファイルを Azure AI Foundry プロジェクトへアップロード\n",
    "- Vector Store を作成し、インデックス処理までブロック\n",
    "- 完了した Vector Store の ID を出力\n"
   ]
  },
  {
   "cell_type": "code",
   "execution_count": 1,
   "id": "246232bb-e293-4718-8286-0f2a4aeaea37",
   "metadata": {},
   "outputs": [],
   "source": [
    "import sys\n",
    "import os\n",
    "import json\n",
    "from pathlib import Path\n",
    "from dotenv import load_dotenv\n",
    "from azure.identity import DefaultAzureCredential\n",
    "from azure.ai.projects import AIProjectClient\n",
    "from azure.ai.agents import AgentsClient\n",
    "from azure.ai.agents.models import FilePurpose"
   ]
  },
  {
   "cell_type": "code",
   "execution_count": null,
   "id": "2f44ce58-91ae-42b2-b52e-ceb06f647b64",
   "metadata": {},
   "outputs": [],
   "source": [
    "### ファイル存在チェック\n",
    "file_paths = [\n",
    "    Path(p).expanduser().resolve()\n",
    "    for p in [\n",
    "        \"./data/merge_tags_content.txt\",\n",
    "    ]\n",
    "]\n",
    "for p in file_paths:\n",
    "    if not p.exists():\n",
    "        raise FileNotFoundError(p)"
   ]
  },
  {
   "cell_type": "code",
   "execution_count": 6,
   "id": "576f04cf-1815-48b2-9a56-e5440998e974",
   "metadata": {},
   "outputs": [],
   "source": [
    "### 1. 環境変数読み子も\n",
    "load_dotenv()\n",
    "\n",
    "ENDPOINT = os.getenv(\"PROJECT_ENDPOINT\")\n",
    "if not ENDPOINT:\n",
    "    raise EnvironmentError(\"PROJECT_ENDPOINT is not set in environment variables.\")"
   ]
  },
  {
   "cell_type": "code",
   "execution_count": 8,
   "id": "fd35fff3-9f0e-48a0-814a-34520fc28d23",
   "metadata": {},
   "outputs": [],
   "source": [
    "### 2. クライアントの生成\n",
    "credential = DefaultAzureCredential()\n",
    "project_client = AIProjectClient(endpoint=ENDPOINT, credential=credential)\n",
    "agents_client = AgentsClient(endpoint=ENDPOINT, credential=credential)"
   ]
  },
  {
   "cell_type": "code",
   "execution_count": null,
   "id": "f5d35410-5a60-4265-9b95-b3becd4378e3",
   "metadata": {},
   "outputs": [
    {
     "name": "stdout",
     "output_type": "stream",
     "text": [
      "Uploading merge_tags_content.txt ...\n",
      " Uploaded: assistant-BWoD95F1UaKK8vyUkoLXnu\n"
     ]
    }
   ],
   "source": [
    "### 3. ファイルアップロード\n",
    "uploaded_files = []\n",
    "for path in file_paths:\n",
    "    print(f\"Uploading {path.name} ...\")\n",
    "    u_file = agents_client.files.upload_and_poll(\n",
    "        file_path=str(path), purpose=FilePurpose.AGENTS\n",
    "    )\n",
    "    print(f\" Uploaded: {u_file.id}\")\n",
    "    uploaded_files.append(u_file.id)"
   ]
  },
  {
   "cell_type": "code",
   "execution_count": null,
   "id": "9005ff5d-2bb3-412b-a521-ec28f7c074af",
   "metadata": {},
   "outputs": [
    {
     "name": "stdout",
     "output_type": "stream",
     "text": [
      "Creating vector store (this may take a few minuts) ...\n",
      "Vector store ready: vs_FtENaUd4hkL9uMBE1wFFQQIY\n"
     ]
    }
   ],
   "source": [
    "### 4. Vector Store 作成 & 完了待ち\n",
    "print(\"Creating vector store (this may take a few minuts) ...\")\n",
    "vector_store = agents_client.vector_stores.create_and_poll(\n",
    "    name=\"vectorstore-\" + os.path.splitext(file_paths[0].name)[0],\n",
    "    file_ids=uploaded_files,\n",
    ")\n",
    "print(f\"Vector store ready: {vector_store.id}\")"
   ]
  },
  {
   "cell_type": "code",
   "execution_count": 18,
   "id": "7842a6ae-b617-4833-8e03-e2b283cba083",
   "metadata": {},
   "outputs": [
    {
     "name": "stdout",
     "output_type": "stream",
     "text": [
      "\n",
      "=== VECTOR_STORE_ID ===\n",
      "vs_FtENaUd4hkL9uMBE1wFFQQIY\n",
      "Saved vector_store.json\n"
     ]
    }
   ],
   "source": [
    "### 5. 結果出力（標準出力 & JSONファイル）\n",
    "print(\"\\n=== VECTOR_STORE_ID ===\")\n",
    "print(vector_store.id)\n",
    "\n",
    "# 伴わせて JSON でも保存しておく\n",
    "out = {\"vector_store_id\": vector_store.id}\n",
    "with open(\"vector_store.json\", \"w\", encoding=\"utf-8\") as fp:\n",
    "    json.dump(out, fp, indent=2, ensure_ascii=False)\n",
    "print(\"Saved vector_store.json\")"
   ]
  },
  {
   "cell_type": "code",
   "execution_count": null,
   "id": "460e369e-d114-4a97-a3c3-c51719c3335b",
   "metadata": {},
   "outputs": [],
   "source": []
  },
  {
   "cell_type": "markdown",
   "id": "c00b8a52-e0c2-491c-9404-84d011b341c2",
   "metadata": {},
   "source": [
    "# 作成したベクトルストアの利用確認\n"
   ]
  },
  {
   "cell_type": "code",
   "execution_count": 11,
   "id": "21e4d4cc-afc5-4a2c-a726-d112e1e010b4",
   "metadata": {},
   "outputs": [],
   "source": [
    "from azure.ai.agents.models import FileSearchTool, RunStatus"
   ]
  },
  {
   "cell_type": "code",
   "execution_count": 24,
   "id": "854f2e3f-16be-4c4e-8354-81ed70e8b154",
   "metadata": {},
   "outputs": [
    {
     "name": "stdout",
     "output_type": "stream",
     "text": [
      "Agent ID: asst_PPVXRYRlDUeppLFHQ7L2V7L1\n"
     ]
    }
   ],
   "source": [
    "### 6. FileSearchToolを初期化し、agentを作成\n",
    "file_search = FileSearchTool(vector_store_ids=[vector_store.id])\n",
    "\n",
    "instruction = \"\"\"\n",
    "    あなたは、コロナ対策支援事業について答えるアシスタントです。\n",
    "    file_searchツールを使い、質問に関連する支援事業を見つけて、対象となる支援事業を紹介してください。\n",
    "    \"\"\"\n",
    "\n",
    "MODEL_DEPLOYMENT_NAME = os.getenv(\"MODEL_DEPLOYMENT_NAME\")\n",
    "\n",
    "agent = agents_client.create_agent(\n",
    "    model=MODEL_DEPLOYMENT_NAME,\n",
    "    name=\"rag-agent\",\n",
    "    instructions=instruction,\n",
    "    tools=file_search.definitions,\n",
    "    tool_resources=file_search.resources,\n",
    ")\n",
    "print(\"Agent ID:\", agent.id)"
   ]
  },
  {
   "cell_type": "code",
   "execution_count": null,
   "id": "93c254de-73f8-436d-83ce-601bcdbf75bc",
   "metadata": {},
   "outputs": [
    {
     "name": "stdout",
     "output_type": "stream",
     "text": [
      "MessageRole.AGENT: コロナの影響で働けず、家賃の支払いが厳しい場合に利用できる家賃補助について、いくつかの制度があります。\n",
      "\n",
      "1. 住居確保給付金  \n",
      "「住居確保給付金」があり、これは離職や収入減少によって住居を失った、または失うおそれのある方を対象に、家賃相当額を有期で給付する制度です。令和2年4月20日からは、コロナにより「離職または廃業に至っていないが同等の状況にある方」も対象になっています。詳細や申請方法は、お住まいの自立相談支援機関で確認ください【4:11†merge_tags_content.txt】【4:5†merge_tags_content.txt】。\n",
      "\n",
      "2. 生活困窮者自立支援金  \n",
      "また、「新型コロナウイルス感染症生活困窮者自立支援金」もあり、住居確保給付金と併給できる場合があります。支給額や期間の詳細も併せてご確認ください【4:0†merge_tags_content.txt】。\n",
      "\n",
      "3. 生活保護・都営住宅等  \n",
      "さらに困難な場合は、生活保護制度も選択肢となります。生活保護の住宅扶助により家賃補助が受けられます。都営住宅にお住まいの方は、一定基準以下の収入であれば家賃の減額申請も可能です【4:9†merge_tags_content.txt】【4:7†merge_tags_content.txt】。\n",
      "\n",
      "お住まいの自治体や区役所の相談窓口で、具体的な申請方法や自身が対象に該当するかご相談されることをおすすめします。\n",
      "MessageRole.USER: コロナで働けないため、家賃の支払いが厳しいです。家賃の補助支援はないですか？\n"
     ]
    }
   ],
   "source": [
    "### 7. スレッド+メッセージ->ラン実行\n",
    "user_msg = (\n",
    "    \"コロナで働けないため、家賃の支払いが厳しいです。家賃の補助支援はないですか？\"\n",
    ")\n",
    "thread = agents_client.threads.create()\n",
    "agents_client.messages.create(thread_id=thread.id, role=\"user\", content=user_msg)\n",
    "\n",
    "run = agents_client.runs.create_and_process(thread_id=thread.id, agent_id=agent.id)\n",
    "\n",
    "if run.status == RunStatus.FAILED:\n",
    "    print(run.last_error.code, \"-\", run.last_error.message)\n",
    "else:\n",
    "    for msg in agents_client.messages.list(thread_id=thread.id):\n",
    "        if msg.role != \"tool\":\n",
    "            print(f\"{msg.role}: {msg.text_messages[0].text.value}\")"
   ]
  },
  {
   "cell_type": "code",
   "execution_count": null,
   "id": "54d30d37-d19a-4b11-a7f9-961944f288b0",
   "metadata": {},
   "outputs": [],
   "source": []
  }
 ],
 "metadata": {
  "kernelspec": {
   "display_name": "study_azure_single_agent",
   "language": "python",
   "name": "python3"
  },
  "language_info": {
   "codemirror_mode": {
    "name": "ipython",
    "version": 3
   },
   "file_extension": ".py",
   "mimetype": "text/x-python",
   "name": "python",
   "nbconvert_exporter": "python",
   "pygments_lexer": "ipython3",
   "version": "3.11.11"
  }
 },
 "nbformat": 4,
 "nbformat_minor": 5
}
